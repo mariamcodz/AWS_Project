{
 "cells": [
  {
   "cell_type": "code",
   "execution_count": 11,
   "id": "5127df9c",
   "metadata": {},
   "outputs": [],
   "source": [
    "import json\n",
    "import requests\n",
    "import pandas as pd\n",
    "from io import StringIO # python3; python2: BytesIO \n",
    "import boto3\n",
    "\n",
    "#raw bucket name\n",
    "bucket = 'final-bird-project-rae' # already created on S3\n",
    "\n",
    "def req():\n",
    "    country = \"united_kingdom\"\n",
    "    page = 1\n",
    "    numPages = 2\n",
    "    recordings = []\n",
    "    while page <=numPages :\n",
    "        url = f\"https://xeno-canto.org/api/2/recordings?query=cnt:{country}&page={page}\"\n",
    "        response = requests.get(url)\n",
    "        numPages = int(response.json()[\"numPages\"])\n",
    "        recordings.extend(response.json()['recordings'])\n",
    "        page+=1\n",
    "\n",
    "        #print(page)\n",
    "    \n",
    "    jsonString = json.dumps({\"records\":recordings})\n",
    "    return jsonString\n",
    "\n",
    "jsonString  =req()\n"
   ]
  },
  {
   "cell_type": "code",
   "execution_count": 13,
   "id": "72dcf02e",
   "metadata": {},
   "outputs": [
    {
     "name": "stdout",
     "output_type": "stream",
     "text": [
      "-----------------------i was fired ----------------------\n"
     ]
    }
   ],
   "source": [
    "from io import BytesIO, StringIO\n",
    "import json\n",
    "import pandas as pd\n",
    "import boto3\n",
    "import requests\n",
    "\n",
    "\n",
    "\n",
    "print('-----------------------i was fired ----------------------')\n",
    "\n",
    "#s3 nuckets processed data would be saved\n",
    "birdbucket = \"s3://bird-project-live/\"\n",
    "\n",
    "#north england counties\n",
    "north_counties = ['Cheshire', 'Cumbria', 'County Durham','Manchester', 'Lancashire', 'Merseyside', 'Northumberland', 'Tyne', 'Yorkshire','Lincolnshire']\n",
    "\n",
    "s3_client = boto3.client('s3')\n",
    "\n",
    "#raw bucket name\n",
    "bucket = 'final-bird-project-rae' # already created on S3\n",
    "\n",
    "#website to get counties and states names in th uk\n",
    "url ='https://www.townscountiespostcodes.co.uk/counties-in-uk/'\n",
    "\n",
    "\"\"\"\n",
    "sends a get requests to the endpoint to get the html code which will be passed with pandas to extract the table. It can aslo be passed with beautifulsoup\n",
    "pandas makes table easy to extract\n",
    "\"\"\"\n",
    "x = requests.get('https://www.townscountiespostcodes.co.uk/counties-in-uk/')\n",
    "\n",
    "#extracts the first table on th epage into a dataframe\n",
    "df = pd.read_html(x.text)[0]\n",
    "\n",
    "#takes the necessary column\n",
    "df = df[1:][['County','Country']]\n",
    "\n",
    "#convert it to a dictionary, so we have the city name as a key and the counties under it as array\n",
    "states = {k: g[\"County\"].tolist() for k,g in df.groupby(\"Country\")}\n",
    "\n"
   ]
  },
  {
   "cell_type": "code",
   "execution_count": 20,
   "id": "bc3d40b3",
   "metadata": {},
   "outputs": [],
   "source": [
    "\n",
    "#time of year\n",
    "#03-> Maarch, 04->April, 05-> May and these are spring months\n",
    "Spring= ['03', '04' ,'05']\n",
    "Summer =['06', '07', '08']\n",
    "Autumn = ['09', '10' , '11']\n",
    "Winter = ['12', '01', '02']\n",
    "\n",
    "def is_it_north(address):\n",
    "    \"\"\"\n",
    "    checks an address and ckeck if any of the word match the counties categoriezed as north counties\n",
    "    \"\"\"\n",
    "#     splitted_address = address.split(',')\n",
    "#     temp = []\n",
    "#     for j in splitted_address:\n",
    "#         if j.strip() in north_counties:\n",
    "#             temp.append('yes')\n",
    "#             break\n",
    "\n",
    "    if address in north_counties:# len(temp) <1:\n",
    "        \n",
    "        return 'NO'\n",
    "    \n",
    "    return 'YES'\n",
    "    \n",
    "#converts a string number to an integer\n",
    "def reclean(hour):\n",
    "    \"\"\"\n",
    "    This function was created as some numbers like 005 were passing through the filter\n",
    "    This converts numbers like that to int and that removes the 00\n",
    "    \"\"\"\n",
    "    try:\n",
    "        correct_hour = int(hour)\n",
    "    except:\n",
    "        correct_hour = 5\n",
    "    return str(correct_hour)\n",
    "    \n",
    "#get the hour form the time columns\n",
    "#this column has different case, each of them was factored in \n",
    "#some had ??, date, 8am,8:00am etc\n",
    "def clean_hour(hour):\n",
    "    if hour.startswith('00') and len(hour)<4:\n",
    "        real_hour = hour[-2:]\n",
    "    elif '.' in hour or ':' in hour:\n",
    "        hr = hour.split('.')[0].split(':')[0]\n",
    "        if len(hr) <2:\n",
    "            real_hour = '0'+hr\n",
    "        else:\n",
    "            real_hour = hr\n",
    "    elif 'am' in hour and '.' not in hour:\n",
    "        hr = hour.split('am')[0]\n",
    "        if len(hr) <2:\n",
    "            real_hour = '0'+hr\n",
    "        else:\n",
    "            real_hour = hr\n",
    "    elif 'pm' in hour and '.' not in hour:\n",
    "        try:\n",
    "            hr = hour.split('pm')[0]\n",
    "            if len(hr) <2:\n",
    "                real_hour = '0'+hr\n",
    "            else:\n",
    "                real_hour = hr\n",
    "        except:\n",
    "            real_hour = '19'\n",
    "    elif '-' in hour:\n",
    "        real_hour = hour.split('-')[0]\n",
    "    elif 'noon' in hour:\n",
    "        real_hour = '15'\n",
    "    elif '?' in hour:\n",
    "        real_hour = '05'\n",
    "    else:\n",
    "        real_hour = '05'\n",
    "    send_hour = reclean(real_hour)\n",
    "    \n",
    "    return send_hour\n",
    "    \n",
    "#checks if england is the address colummn\n",
    "def england_or_not(address):\n",
    "    if 'england' in address.lower():\n",
    "        answer = 'England'\n",
    "    else:\n",
    "        answer ='Not England'\n",
    "    return answer\n",
    "    \n",
    "#check which season it was using the month in the date\n",
    "def check_season(daytime):\n",
    "    month = daytime.split('-')[1]\n",
    "    \n",
    "    if month in Spring:\n",
    "        season='spring'\n",
    "    elif month in Summer:\n",
    "        season= 'summer'\n",
    "    elif month in Autumn:\n",
    "        season='autumn'\n",
    "    elif month in Winter:\n",
    "        season='winter'\n",
    "    else:\n",
    "        season='No season'\n",
    "    return season\n",
    "\n",
    "\n",
    "#10-4am night, 4-12 morning,12-5 afternoon, 6-10 evening\n",
    "def time_of_day(daytime):\n",
    "    hour = daytime.split(':')\n",
    "    \n",
    "    try:\n",
    "        if int(hour[0]) < 13 and int(hour[0])  > 3:\n",
    "            answer = 'Morning'\n",
    "        elif int(hour[0]) > 13 and int(hour[0])  < 18:\n",
    "            answer = 'afternoon'\n",
    "        else:\n",
    "            answer = 'Evening'\n",
    "    except:\n",
    "        answer = 'NO TIME'\n",
    "    return answer\n",
    "\n",
    "\n",
    "#retired this function\n",
    "# def hour(daytime):\n",
    "#     hour = daytime.split(':')\n",
    "#     return hour[0]\n",
    "\n",
    "#gets the year from the date\n",
    "def get_upload_year(daytime):\n",
    "    year = daytime.split('-')[0]\n",
    "    return year\n",
    "\n",
    "\n",
    "#dtermine the gender by searching for male, female in the column\n",
    "def gender(desc):\n",
    "    desc = desc.lower()\n",
    "    if 'female' in desc:\n",
    "        bird_gender = 'female'\n",
    "    elif 'male' in desc and 'female' not in desc:\n",
    "        bird_gender= 'male'\n",
    "    else:\n",
    "        bird_gender= 'No gender specified'\n",
    "    return bird_gender\n",
    "\n",
    "#check if the desc contains the word song or call\n",
    "def is_call_or_song(desc):\n",
    "    desc = desc.lower()\n",
    "    if 'song' in desc and 'call' not in desc:\n",
    "        sound = 'song'\n",
    "    elif 'call' in desc and 'song' not in desc:\n",
    "        sound = 'call'\n",
    "    elif 'call' in desc and 'song' in desc:\n",
    "        sound = 'both'\n",
    "    else:\n",
    "        sound = 'Not specified'\n",
    "    return sound\n",
    "\n",
    "\n",
    "#gets the county name\n",
    "def check_county(addr):\n",
    "    \"\"\"\n",
    "    loop through the list of states in the uk\n",
    "    loop through each county under them\n",
    "    check if the county is in the address\n",
    "    it returns the county name if found and return a default if it does find any\n",
    "    \"\"\"\n",
    "    for i in states:\n",
    "        for j in states[i]:\n",
    "            if j in addr:\n",
    "                return j\n",
    "            \n",
    "    return 'No County'\n",
    "    \n",
    "#gets the country\n",
    "def check_country(addr):\n",
    "    \n",
    "    for i in states:\n",
    "\n",
    "        if i in addr:\n",
    "            return i\n",
    "\n",
    "    return 'No Country'\n",
    "\n",
    "#converts it to a dataframe\n",
    "df = pd.json_normalize(json.loads(jsonString)['records'])\n",
    "df = df.dropna()"
   ]
  },
  {
   "cell_type": "code",
   "execution_count": 21,
   "id": "37f0ddd3",
   "metadata": {},
   "outputs": [
    {
     "name": "stdout",
     "output_type": "stream",
     "text": [
      "----------------------droping rec date and upload datet----------------------\n",
      "----------------------selecting non empty rows----------------------\n",
      "----------------------converting lat and long to float----------------------\n"
     ]
    },
    {
     "name": "stderr",
     "output_type": "stream",
     "text": [
      "C:\\Users\\DELL\\AppData\\Local\\Temp/ipykernel_9600/963714466.py:65: SettingWithCopyWarning: \n",
      "A value is trying to be set on a copy of a slice from a DataFrame.\n",
      "Try using .loc[row_indexer,col_indexer] = value instead\n",
      "\n",
      "See the caveats in the documentation: https://pandas.pydata.org/pandas-docs/stable/user_guide/indexing.html#returning-a-view-versus-a-copy\n",
      "  export['lat'] = export['lat'].astype(float)\n",
      "C:\\Users\\DELL\\AppData\\Local\\Temp/ipykernel_9600/963714466.py:66: SettingWithCopyWarning: \n",
      "A value is trying to be set on a copy of a slice from a DataFrame.\n",
      "Try using .loc[row_indexer,col_indexer] = value instead\n",
      "\n",
      "See the caveats in the documentation: https://pandas.pydata.org/pandas-docs/stable/user_guide/indexing.html#returning-a-view-versus-a-copy\n",
      "  export['lng'] = export['lng'].astype(float)\n"
     ]
    }
   ],
   "source": [
    "\n",
    "#replace the columns names\n",
    "df.columns = ['xeno_canto_catalogue_number','specie_generic_name','specific_name','subspecie_name','specie_eng_name','recordist_name','recording_made_in','locality_name','lat','lng','alt','rec_sound_type','url','audio_file_url','file_original_name','license_desc_url','rec_quality_rating','len_in_mins','rec_time','rec_date','upload_date','bg_specie','add_remarks','identified_visually','lure_with_playback','sono_small','sono_medium','sono_large','sono_full']\n",
    "\n",
    "\n",
    "#extarct rows with england in the locality name\n",
    "contains_england = df # df[df['locality_name'].str.contains('England')]\n",
    "\n",
    "#contains_england['country'] = contains_england['locality_name'].apply(england_or_not)\n",
    "contains_england['county'] = contains_england['locality_name'].apply(check_county)\n",
    "contains_england['country'] = contains_england['locality_name'].apply(check_country)\n",
    "\n",
    "#north or south england\n",
    "#creates a new column with yes or no function\n",
    "#contains_england['is_north'] = contains_england['locality_name'].apply(is_it_north)\n",
    "contains_england['is_north'] = contains_england['county'].apply(is_it_north)\n",
    "\n",
    "contains_england['time_of_day'] = contains_england['rec_time'].apply(time_of_day)\n",
    "\n",
    "contains_england['specie_generic_name'] = contains_england['specie_generic_name'].str.title()\n",
    "contains_england['specific_name'] = contains_england['specific_name'].str.title()\n",
    "contains_england['specie_eng_name'] = contains_england['specie_eng_name'].str.title()\n",
    "contains_england['recordist_name'] = contains_england['recordist_name'].str.title()\n",
    "contains_england['locality_name'] = contains_england['locality_name'].str.title()\n",
    "contains_england['rec_sound_type'] = contains_england['rec_sound_type'].str.title()\n",
    "contains_england['add_remarks'] = contains_england['add_remarks'].str.title()\n",
    "\n",
    "\n",
    "\n",
    "#male or female or no gender specified\n",
    "contains_england['gender'] = contains_england['rec_sound_type'].apply(gender)\n",
    "\n",
    "\n",
    "#contains_england['recording_hour'] =  contains_england['rec_time'].apply(hour)\n",
    "\n",
    "contains_england['recording_hour'] =  contains_england['rec_time'].apply(clean_hour)\n",
    "contains_england['season'] = contains_england['rec_date'].apply(check_season)\n",
    "\n",
    "\n",
    "#convert to dateime and ignore errors\n",
    "contains_england['rec_date'] = pd.to_datetime(contains_england['rec_date'],errors='coerce')\n",
    "contains_england['rec_day'] = contains_england['rec_date'].dt.day.astype('Int64')\n",
    "contains_england['rec_month'] = contains_england['rec_date'].dt.month.astype('Int64')\n",
    "contains_england['rec_year'] = contains_england['rec_date'].dt.year.astype('Int64')\n",
    "\n",
    "\n",
    "\n",
    "contains_england['upload_date'] = pd.to_datetime(contains_england['upload_date'],errors='coerce')\n",
    "contains_england['upload_day'] = contains_england['upload_date'].dt.day.astype('Int64')\n",
    "contains_england['upload_month'] = contains_england['upload_date'].dt.month.astype('Int64')\n",
    "contains_england['upload_year'] = contains_england['upload_date'].dt.year.astype('Int64')\n",
    "\n",
    "contains_england['days_diff']=(contains_england['upload_date'] - contains_england['rec_date']).dt.days\n",
    "contains_england['call_song'] = contains_england['rec_sound_type'].apply(is_call_or_song)\n",
    "\n",
    "print('----------------------droping rec date and upload datet----------------------')\n",
    "contains_england.drop('rec_date',axis=1,inplace=True)\n",
    "\n",
    "contains_england.drop('upload_date',axis=1,inplace=True)\n",
    "\n",
    "print('----------------------selecting non empty rows----------------------')\n",
    "ce = contains_england[~(contains_england['lat'].isna())]\n",
    "ce = ce[(ce['lat'] !='')]\n",
    "export = ce[~ce['rec_day'].isna()]\n",
    "print('----------------------converting lat and long to float----------------------')\n",
    "export['lat'] = export['lat'].astype(float)\n",
    "export['lng'] = export['lng'].astype(float)\n",
    "\n"
   ]
  },
  {
   "cell_type": "code",
   "execution_count": 22,
   "id": "035ad5a6",
   "metadata": {},
   "outputs": [],
   "source": [
    "### Is there a specie that is more frequent in the Noth England than the south of EANGLAND"
   ]
  },
  {
   "cell_type": "code",
   "execution_count": 29,
   "id": "8de451fd",
   "metadata": {},
   "outputs": [],
   "source": [
    "north = export[export['is_north']=='YES']['specie_generic_name'].value_counts().reset_index()\n",
    "south = export[export['is_north']!='YES']['specie_generic_name'].value_counts().reset_index()"
   ]
  },
  {
   "cell_type": "code",
   "execution_count": 34,
   "id": "1d5af442",
   "metadata": {},
   "outputs": [],
   "source": [
    "both = north.merge(south, on='index', how='left')"
   ]
  },
  {
   "cell_type": "code",
   "execution_count": 39,
   "id": "2732dd99",
   "metadata": {},
   "outputs": [
    {
     "data": {
      "text/plain": [
       "Index(['index', 'specie_generic_name_x', 'specie_generic_name_y'], dtype='object')"
      ]
     },
     "execution_count": 39,
     "metadata": {},
     "output_type": "execute_result"
    }
   ],
   "source": [
    "both.columns"
   ]
  },
  {
   "cell_type": "code",
   "execution_count": 37,
   "id": "86f446c3",
   "metadata": {},
   "outputs": [
    {
     "data": {
      "text/html": [
       "<div>\n",
       "<style scoped>\n",
       "    .dataframe tbody tr th:only-of-type {\n",
       "        vertical-align: middle;\n",
       "    }\n",
       "\n",
       "    .dataframe tbody tr th {\n",
       "        vertical-align: top;\n",
       "    }\n",
       "\n",
       "    .dataframe thead th {\n",
       "        text-align: right;\n",
       "    }\n",
       "</style>\n",
       "<table border=\"1\" class=\"dataframe\">\n",
       "  <thead>\n",
       "    <tr style=\"text-align: right;\">\n",
       "      <th></th>\n",
       "      <th>index</th>\n",
       "      <th>specie_generic_name_x</th>\n",
       "      <th>specie_generic_name_y</th>\n",
       "    </tr>\n",
       "  </thead>\n",
       "  <tbody>\n",
       "    <tr>\n",
       "      <th>0</th>\n",
       "      <td>Phylloscopus</td>\n",
       "      <td>4197</td>\n",
       "      <td>130.0</td>\n",
       "    </tr>\n",
       "    <tr>\n",
       "      <th>1</th>\n",
       "      <td>Sylvia</td>\n",
       "      <td>3413</td>\n",
       "      <td>84.0</td>\n",
       "    </tr>\n",
       "    <tr>\n",
       "      <th>2</th>\n",
       "      <td>Turdus</td>\n",
       "      <td>3201</td>\n",
       "      <td>136.0</td>\n",
       "    </tr>\n",
       "    <tr>\n",
       "      <th>3</th>\n",
       "      <td>Emberiza</td>\n",
       "      <td>2871</td>\n",
       "      <td>80.0</td>\n",
       "    </tr>\n",
       "    <tr>\n",
       "      <th>4</th>\n",
       "      <td>Fringilla</td>\n",
       "      <td>1888</td>\n",
       "      <td>49.0</td>\n",
       "    </tr>\n",
       "  </tbody>\n",
       "</table>\n",
       "</div>"
      ],
      "text/plain": [
       "          index  specie_generic_name_x  specie_generic_name_y\n",
       "0  Phylloscopus                   4197                  130.0\n",
       "1        Sylvia                   3413                   84.0\n",
       "2        Turdus                   3201                  136.0\n",
       "3      Emberiza                   2871                   80.0\n",
       "4     Fringilla                   1888                   49.0"
      ]
     },
     "execution_count": 37,
     "metadata": {},
     "output_type": "execute_result"
    }
   ],
   "source": [
    "both.query('specie_generic_name_x > specie_generic_name_y').head()"
   ]
  },
  {
   "cell_type": "code",
   "execution_count": 38,
   "id": "05d3694a",
   "metadata": {},
   "outputs": [],
   "source": [
    "### Is there a specie that sings more frequently in the morning than in the evening"
   ]
  },
  {
   "cell_type": "code",
   "execution_count": 42,
   "id": "d96638aa",
   "metadata": {},
   "outputs": [
    {
     "data": {
      "text/plain": [
       "array(['Morning', 'NO TIME', 'Evening', 'afternoon'], dtype=object)"
      ]
     },
     "execution_count": 42,
     "metadata": {},
     "output_type": "execute_result"
    }
   ],
   "source": [
    "export['time_of_day'].unique()"
   ]
  },
  {
   "cell_type": "code",
   "execution_count": 81,
   "id": "00ea65a1",
   "metadata": {},
   "outputs": [],
   "source": [
    "morning = export[export['time_of_day']=='Morning']\n",
    "morning_call = morning[morning['call_song']=='call'].groupby('specie_generic_name').size().reset_index(name=\"morning_call_count\")\n",
    "\n",
    "evening = export[export['time_of_day']=='Evening']\n",
    "evening_call = evening[evening['call_song']=='call'].groupby('specie_generic_name').size().reset_index(name=\"evening_call_count\")\n"
   ]
  },
  {
   "cell_type": "code",
   "execution_count": 82,
   "id": "74e99a30",
   "metadata": {},
   "outputs": [],
   "source": [
    "both = morning_call.merge(evening_call, on='specie_generic_name')"
   ]
  },
  {
   "cell_type": "code",
   "execution_count": 83,
   "id": "8b3dfac9",
   "metadata": {},
   "outputs": [
    {
     "data": {
      "text/html": [
       "<div>\n",
       "<style scoped>\n",
       "    .dataframe tbody tr th:only-of-type {\n",
       "        vertical-align: middle;\n",
       "    }\n",
       "\n",
       "    .dataframe tbody tr th {\n",
       "        vertical-align: top;\n",
       "    }\n",
       "\n",
       "    .dataframe thead th {\n",
       "        text-align: right;\n",
       "    }\n",
       "</style>\n",
       "<table border=\"1\" class=\"dataframe\">\n",
       "  <thead>\n",
       "    <tr style=\"text-align: right;\">\n",
       "      <th></th>\n",
       "      <th>specie_generic_name</th>\n",
       "      <th>morning_call_count</th>\n",
       "      <th>evening_call_count</th>\n",
       "    </tr>\n",
       "  </thead>\n",
       "  <tbody>\n",
       "    <tr>\n",
       "      <th>0</th>\n",
       "      <td>Acanthis</td>\n",
       "      <td>47</td>\n",
       "      <td>8</td>\n",
       "    </tr>\n",
       "    <tr>\n",
       "      <th>1</th>\n",
       "      <td>Accipiter</td>\n",
       "      <td>30</td>\n",
       "      <td>2</td>\n",
       "    </tr>\n",
       "    <tr>\n",
       "      <th>2</th>\n",
       "      <td>Acrocephalus</td>\n",
       "      <td>37</td>\n",
       "      <td>13</td>\n",
       "    </tr>\n",
       "    <tr>\n",
       "      <th>3</th>\n",
       "      <td>Actitis</td>\n",
       "      <td>20</td>\n",
       "      <td>136</td>\n",
       "    </tr>\n",
       "    <tr>\n",
       "      <th>4</th>\n",
       "      <td>Aegithalos</td>\n",
       "      <td>333</td>\n",
       "      <td>7</td>\n",
       "    </tr>\n",
       "    <tr>\n",
       "      <th>...</th>\n",
       "      <td>...</td>\n",
       "      <td>...</td>\n",
       "      <td>...</td>\n",
       "    </tr>\n",
       "    <tr>\n",
       "      <th>138</th>\n",
       "      <td>Troglodytes</td>\n",
       "      <td>339</td>\n",
       "      <td>13</td>\n",
       "    </tr>\n",
       "    <tr>\n",
       "      <th>139</th>\n",
       "      <td>Turdus</td>\n",
       "      <td>827</td>\n",
       "      <td>414</td>\n",
       "    </tr>\n",
       "    <tr>\n",
       "      <th>140</th>\n",
       "      <td>Tyto</td>\n",
       "      <td>14</td>\n",
       "      <td>173</td>\n",
       "    </tr>\n",
       "    <tr>\n",
       "      <th>141</th>\n",
       "      <td>Uria</td>\n",
       "      <td>31</td>\n",
       "      <td>3</td>\n",
       "    </tr>\n",
       "    <tr>\n",
       "      <th>142</th>\n",
       "      <td>Vanellus</td>\n",
       "      <td>108</td>\n",
       "      <td>61</td>\n",
       "    </tr>\n",
       "  </tbody>\n",
       "</table>\n",
       "<p>143 rows × 3 columns</p>\n",
       "</div>"
      ],
      "text/plain": [
       "    specie_generic_name  morning_call_count  evening_call_count\n",
       "0              Acanthis                  47                   8\n",
       "1             Accipiter                  30                   2\n",
       "2          Acrocephalus                  37                  13\n",
       "3               Actitis                  20                 136\n",
       "4            Aegithalos                 333                   7\n",
       "..                  ...                 ...                 ...\n",
       "138         Troglodytes                 339                  13\n",
       "139              Turdus                 827                 414\n",
       "140                Tyto                  14                 173\n",
       "141                Uria                  31                   3\n",
       "142            Vanellus                 108                  61\n",
       "\n",
       "[143 rows x 3 columns]"
      ]
     },
     "execution_count": 83,
     "metadata": {},
     "output_type": "execute_result"
    }
   ],
   "source": [
    "both"
   ]
  },
  {
   "cell_type": "code",
   "execution_count": 84,
   "id": "78afe0cd",
   "metadata": {},
   "outputs": [
    {
     "data": {
      "text/html": [
       "<div>\n",
       "<style scoped>\n",
       "    .dataframe tbody tr th:only-of-type {\n",
       "        vertical-align: middle;\n",
       "    }\n",
       "\n",
       "    .dataframe tbody tr th {\n",
       "        vertical-align: top;\n",
       "    }\n",
       "\n",
       "    .dataframe thead th {\n",
       "        text-align: right;\n",
       "    }\n",
       "</style>\n",
       "<table border=\"1\" class=\"dataframe\">\n",
       "  <thead>\n",
       "    <tr style=\"text-align: right;\">\n",
       "      <th></th>\n",
       "      <th>specie_generic_name</th>\n",
       "      <th>morning_call_count</th>\n",
       "      <th>evening_call_count</th>\n",
       "    </tr>\n",
       "  </thead>\n",
       "  <tbody>\n",
       "    <tr>\n",
       "      <th>0</th>\n",
       "      <td>Acanthis</td>\n",
       "      <td>47</td>\n",
       "      <td>8</td>\n",
       "    </tr>\n",
       "    <tr>\n",
       "      <th>1</th>\n",
       "      <td>Accipiter</td>\n",
       "      <td>30</td>\n",
       "      <td>2</td>\n",
       "    </tr>\n",
       "    <tr>\n",
       "      <th>2</th>\n",
       "      <td>Acrocephalus</td>\n",
       "      <td>37</td>\n",
       "      <td>13</td>\n",
       "    </tr>\n",
       "    <tr>\n",
       "      <th>4</th>\n",
       "      <td>Aegithalos</td>\n",
       "      <td>333</td>\n",
       "      <td>7</td>\n",
       "    </tr>\n",
       "    <tr>\n",
       "      <th>5</th>\n",
       "      <td>Aix</td>\n",
       "      <td>11</td>\n",
       "      <td>4</td>\n",
       "    </tr>\n",
       "  </tbody>\n",
       "</table>\n",
       "</div>"
      ],
      "text/plain": [
       "  specie_generic_name  morning_call_count  evening_call_count\n",
       "0            Acanthis                  47                   8\n",
       "1           Accipiter                  30                   2\n",
       "2        Acrocephalus                  37                  13\n",
       "4          Aegithalos                 333                   7\n",
       "5                 Aix                  11                   4"
      ]
     },
     "execution_count": 84,
     "metadata": {},
     "output_type": "execute_result"
    }
   ],
   "source": [
    "both.query('morning_call_count > evening_call_count').head()"
   ]
  },
  {
   "cell_type": "code",
   "execution_count": 86,
   "id": "db2f5710",
   "metadata": {},
   "outputs": [],
   "source": [
    "### Analysis of the time of the day and potentially look at different time of the year e.g Do we have more recordings in the spring than winter\n"
   ]
  },
  {
   "cell_type": "code",
   "execution_count": 88,
   "id": "25263ba7",
   "metadata": {},
   "outputs": [
    {
     "data": {
      "text/plain": [
       "Index(['xeno_canto_catalogue_number', 'specie_generic_name', 'specific_name',\n",
       "       'subspecie_name', 'specie_eng_name', 'recordist_name',\n",
       "       'recording_made_in', 'locality_name', 'lat', 'lng', 'alt',\n",
       "       'rec_sound_type', 'url', 'audio_file_url', 'file_original_name',\n",
       "       'license_desc_url', 'rec_quality_rating', 'len_in_mins', 'rec_time',\n",
       "       'bg_specie', 'add_remarks', 'identified_visually', 'lure_with_playback',\n",
       "       'sono_small', 'sono_medium', 'sono_large', 'sono_full', 'county',\n",
       "       'country', 'is_north', 'time_of_day', 'gender', 'recording_hour',\n",
       "       'season', 'rec_day', 'rec_month', 'rec_year', 'upload_day',\n",
       "       'upload_month', 'upload_year', 'days_diff', 'call_song'],\n",
       "      dtype='object')"
      ]
     },
     "execution_count": 88,
     "metadata": {},
     "output_type": "execute_result"
    }
   ],
   "source": [
    "export.columns"
   ]
  },
  {
   "cell_type": "code",
   "execution_count": 89,
   "id": "029a83af",
   "metadata": {},
   "outputs": [
    {
     "data": {
      "text/plain": [
       "Morning      35082\n",
       "Evening       8184\n",
       "afternoon     2151\n",
       "NO TIME        954\n",
       "Name: time_of_day, dtype: int64"
      ]
     },
     "execution_count": 89,
     "metadata": {},
     "output_type": "execute_result"
    }
   ],
   "source": [
    "export['time_of_day'].value_counts()"
   ]
  },
  {
   "cell_type": "code",
   "execution_count": 90,
   "id": "4af074bf",
   "metadata": {},
   "outputs": [
    {
     "data": {
      "text/plain": [
       "spring    22741\n",
       "summer    11226\n",
       "winter     7043\n",
       "autumn     5361\n",
       "Name: season, dtype: int64"
      ]
     },
     "execution_count": 90,
     "metadata": {},
     "output_type": "execute_result"
    }
   ],
   "source": [
    "export['season'].value_counts()"
   ]
  },
  {
   "cell_type": "code",
   "execution_count": 91,
   "id": "b29dad85",
   "metadata": {},
   "outputs": [],
   "source": [
    "###  Do we have more species for which we have only 1 subspecie"
   ]
  },
  {
   "cell_type": "code",
   "execution_count": 98,
   "id": "9822703b",
   "metadata": {},
   "outputs": [],
   "source": [
    "specie_subspecie_count = export[['specie_generic_name','subspecie_name']].groupby(['specie_generic_name'])['subspecie_name'].size().reset_index(name=\"counts\")"
   ]
  },
  {
   "cell_type": "code",
   "execution_count": 105,
   "id": "44f72d01",
   "metadata": {},
   "outputs": [],
   "source": [
    "only_one_subspecie = specie_subspecie_count[specie_subspecie_count['counts']==1].shape[0]"
   ]
  },
  {
   "cell_type": "code",
   "execution_count": 106,
   "id": "11dc57c8",
   "metadata": {},
   "outputs": [],
   "source": [
    "have_more_than_one = specie_subspecie_count[specie_subspecie_count['counts']!=1].shape[0]"
   ]
  },
  {
   "cell_type": "code",
   "execution_count": 107,
   "id": "9668a766",
   "metadata": {},
   "outputs": [
    {
     "data": {
      "text/plain": [
       "True"
      ]
     },
     "execution_count": 107,
     "metadata": {},
     "output_type": "execute_result"
    }
   ],
   "source": [
    "have_more_than_one >only_one_subspecie"
   ]
  },
  {
   "cell_type": "code",
   "execution_count": 108,
   "id": "77d56b4c",
   "metadata": {},
   "outputs": [],
   "source": [
    "### what is the most frequent subspecie"
   ]
  },
  {
   "cell_type": "code",
   "execution_count": 110,
   "id": "10c4234b",
   "metadata": {},
   "outputs": [
    {
     "data": {
      "text/plain": [
       "             33227\n",
       "trochilus     1429\n",
       "communis       780\n",
       "obscurus       761\n",
       "coelebs        750\n",
       "Name: subspecie_name, dtype: int64"
      ]
     },
     "execution_count": 110,
     "metadata": {},
     "output_type": "execute_result"
    }
   ],
   "source": [
    "export['subspecie_name'].value_counts().head()"
   ]
  },
  {
   "cell_type": "code",
   "execution_count": null,
   "id": "b6514bc1",
   "metadata": {},
   "outputs": [],
   "source": []
  }
 ],
 "metadata": {
  "kernelspec": {
   "display_name": "Python 3 (ipykernel)",
   "language": "python",
   "name": "python3"
  },
  "language_info": {
   "codemirror_mode": {
    "name": "ipython",
    "version": 3
   },
   "file_extension": ".py",
   "mimetype": "text/x-python",
   "name": "python",
   "nbconvert_exporter": "python",
   "pygments_lexer": "ipython3",
   "version": "3.9.12"
  }
 },
 "nbformat": 4,
 "nbformat_minor": 5
}
